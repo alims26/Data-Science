{
 "cells": [
  {
   "cell_type": "markdown",
   "id": "0507ea66-79d8-4e98-aa11-51eb08328b63",
   "metadata": {},
   "source": [
    "#Exercise 2 - Create a markdown cell with the title of the notebook"
   ]
  },
  {
   "cell_type": "code",
   "execution_count": 7,
   "id": "bde50bde-eb70-4a25-964e-b0f3129b88e9",
   "metadata": {},
   "outputs": [],
   "source": [
    "#Title"
   ]
  },
  {
   "cell_type": "markdown",
   "id": "8b49db7e-ea52-4ca0-aff5-228111485932",
   "metadata": {},
   "source": [
    "# Data Science Tools and Ecosystem"
   ]
  },
  {
   "cell_type": "markdown",
   "id": "c87f600a-6f0b-4bb0-ace9-12c1260aad09",
   "metadata": {},
   "source": [
    "#Exercise 3 - Create a markdown cell for an introduction."
   ]
  },
  {
   "cell_type": "markdown",
   "id": "81b29d75-2112-40d3-998c-5c80f94d84b4",
   "metadata": {},
   "source": [
    "In this following this are summarized:"
   ]
  },
  {
   "cell_type": "markdown",
   "id": "36924a39-e6ed-40bd-8134-3ce6d132a319",
   "metadata": {},
   "source": [
    "1.Data Science Tools\n",
    "2.Data Science Ecosystem"
   ]
  },
  {
   "cell_type": "code",
   "execution_count": 8,
   "id": "82217fe5-145f-4869-8552-21dea1db1d2c",
   "metadata": {},
   "outputs": [],
   "source": [
    "#Exercise 4 - Create a markdown cell to list data science languages."
   ]
  },
  {
   "cell_type": "markdown",
   "id": "e340bef8-6baa-4b55-be18-779419d866d6",
   "metadata": {},
   "source": [
    "Below languages which are mostly used in Data Science "
   ]
  },
  {
   "cell_type": "markdown",
   "id": "00a50af0-46d3-4eae-af81-eb6f9cb78ddb",
   "metadata": {},
   "source": [
    "1. Python\n",
    "2. SQL\n",
    "3. R"
   ]
  },
  {
   "cell_type": "code",
   "execution_count": 9,
   "id": "aefbf69a-1867-4765-9c0e-04edf4204667",
   "metadata": {},
   "outputs": [],
   "source": [
    "#Exercise 5 - Create a markdown cell to list data science libraries."
   ]
  },
  {
   "cell_type": "markdown",
   "id": "4eae2fe6-fd6a-4e01-a1b2-9ba51b1a279d",
   "metadata": {},
   "source": [
    "Below Libraries are used in Data Science"
   ]
  },
  {
   "cell_type": "markdown",
   "id": "682943de-fa32-4c1b-8a46-227cbf8fa088",
   "metadata": {},
   "source": [
    "1. NumPy, \n",
    "2. Pandas, \n",
    "3. Matplotlib, \n",
    "4. Seaborn, \n",
    "5. Scikit-learn, \n",
    "6. TensorFlow, \n",
    "7. PyTorch, \n",
    "8. Keras"
   ]
  },
  {
   "cell_type": "code",
   "execution_count": 10,
   "id": "c7b065a6-b8ee-4494-b62e-317ea8b81f50",
   "metadata": {},
   "outputs": [],
   "source": [
    "#Exercise 6 - Create a markdown cell with a table of Data Science tools."
   ]
  },
  {
   "cell_type": "markdown",
   "id": "41cab161-cab4-41e4-8207-d5d714ce8f24",
   "metadata": {},
   "source": [
    "| Data Science Tools |\n",
    "|--------------------|\n",
    "|  Jupyter Notebook  |\n",
    "|      RStudio       |\n",
    "|      Tableau       |\n",
    "|      Power BI      |\n",
    "|      github        |\n",
    "|                    |\n"
   ]
  },
  {
   "cell_type": "code",
   "execution_count": 1,
   "id": "edfd9105-7ef2-40d6-9b69-42005ec7185e",
   "metadata": {},
   "outputs": [],
   "source": [
    "#Exercise 7 - Create a markdown cell introducing arithmetic expression examples"
   ]
  },
  {
   "cell_type": "markdown",
   "id": "bdf9bc97-ce61-4eae-b0d4-fdae1444cfa1",
   "metadata": {},
   "source": [
    "Below are a few examples of evaluating arithmetic expressions in Python\n",
    "\n"
   ]
  },
  {
   "cell_type": "markdown",
   "id": "36800ec8-ea21-47ed-bcbc-194e9debe17a",
   "metadata": {},
   "source": [
    "3+4-5*2/8"
   ]
  },
  {
   "cell_type": "code",
   "execution_count": 6,
   "id": "c23a202b-884a-4b21-98bd-1a964024a8a8",
   "metadata": {},
   "outputs": [],
   "source": [
    "#Exercise 8 - Create a code cell to multiply and add numbers."
   ]
  },
  {
   "cell_type": "code",
   "execution_count": 8,
   "id": "85269f0e-607f-43ed-8a68-483e660b9a08",
   "metadata": {},
   "outputs": [
    {
     "data": {
      "text/plain": [
       "39"
      ]
     },
     "execution_count": 8,
     "metadata": {},
     "output_type": "execute_result"
    }
   ],
   "source": [
    "#Simple arithmatic expression to multiply and then add numbers\n",
    "\n",
    "(5*6)+9"
   ]
  },
  {
   "cell_type": "code",
   "execution_count": 9,
   "id": "0b98ae5e-7ef8-4d4a-b700-a76bd653fc02",
   "metadata": {},
   "outputs": [],
   "source": [
    "#Exercise 9 - Create a code cell to convert minutes to hours"
   ]
  },
  {
   "cell_type": "code",
   "execution_count": 10,
   "id": "150e1981-a994-4043-a289-d9a21ec1b79e",
   "metadata": {},
   "outputs": [
    {
     "data": {
      "text/plain": [
       "1.4166666666666667"
      ]
     },
     "execution_count": 10,
     "metadata": {},
     "output_type": "execute_result"
    }
   ],
   "source": [
    "#This will convert 85 minutes into hours diving by 60\n",
    "85/60"
   ]
  },
  {
   "cell_type": "code",
   "execution_count": 11,
   "id": "34501bd2-84a2-413c-bb92-af3d5ac7e617",
   "metadata": {},
   "outputs": [],
   "source": [
    "#Exercise 10 -Insert a markdown cell to list Objectives"
   ]
  },
  {
   "cell_type": "markdown",
   "id": "51bf0944-75aa-4343-8521-571210565558",
   "metadata": {},
   "source": [
    "objective 1 : Learn how to create markdown cells"
   ]
  },
  {
   "cell_type": "markdown",
   "id": "f34fe614-639d-48e1-a656-917d22b906ca",
   "metadata": {},
   "source": [
    "objective 2 : Understand how to format text in Markdown"
   ]
  },
  {
   "cell_type": "markdown",
   "id": "63bb3dff-dd90-4330-89e7-0c036c61c91c",
   "metadata": {},
   "source": [
    "objective 3 : Practice listing and organizing objectives"
   ]
  },
  {
   "cell_type": "code",
   "execution_count": 12,
   "id": "2b162910-61ae-4b27-8732-bfba871aa9db",
   "metadata": {},
   "outputs": [],
   "source": [
    "#Exercise 11 - Create a markdown cell to indicate the Author's name"
   ]
  },
  {
   "cell_type": "markdown",
   "id": "3f7c2b28-16ad-47ce-9d09-f38729e5020c",
   "metadata": {},
   "source": [
    "# Author's Name"
   ]
  },
  {
   "cell_type": "markdown",
   "id": "5cedc39a-37a1-49cc-a9b5-0b061c1a6c47",
   "metadata": {},
   "source": [
    "Alim Shaikh"
   ]
  },
  {
   "cell_type": "code",
   "execution_count": null,
   "id": "42ed5801-ede1-4a31-adff-3b0b8b7b7538",
   "metadata": {},
   "outputs": [],
   "source": []
  }
 ],
 "metadata": {
  "kernelspec": {
   "display_name": "Python 3 (ipykernel)",
   "language": "python",
   "name": "python3"
  },
  "language_info": {
   "codemirror_mode": {
    "name": "ipython",
    "version": 3
   },
   "file_extension": ".py",
   "mimetype": "text/x-python",
   "name": "python",
   "nbconvert_exporter": "python",
   "pygments_lexer": "ipython3",
   "version": "3.11.7"
  }
 },
 "nbformat": 4,
 "nbformat_minor": 5
}
